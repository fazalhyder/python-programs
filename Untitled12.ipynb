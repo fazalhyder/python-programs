{
 "cells": [
  {
   "cell_type": "markdown",
   "id": "87a81b6f",
   "metadata": {},
   "source": [
    "# function to return the sum of all prime numbers in that"
   ]
  },
  {
   "cell_type": "code",
   "execution_count": 16,
   "id": "cb5157b3",
   "metadata": {},
   "outputs": [],
   "source": [
    "import math\n",
    "def sp():\n",
    "    lst=[]\n",
    "    a=int(input('enter a no of elements: '))\n",
    "    for i in range(0,a):\n",
    "     lst1=int(input())\n",
    "     lst.append(lst1)\n",
    "    if(lst1%2==0):\n",
    "     x=lst1+lst1\n",
    "    print(x)"
   ]
  },
  {
   "cell_type": "code",
   "execution_count": 31,
   "id": "43d53d3a",
   "metadata": {},
   "outputs": [
    {
     "name": "stdout",
     "output_type": "stream",
     "text": [
      "enter a no of elements: 4\n",
      "2\n",
      "3\n",
      "4\n",
      "2\n",
      "4\n"
     ]
    }
   ],
   "source": [
    "sp()"
   ]
  },
  {
   "cell_type": "markdown",
   "id": "3afde5a0",
   "metadata": {},
   "source": [
    "# function to calculate all permutations of a given string."
   ]
  },
  {
   "cell_type": "code",
   "execution_count": 21,
   "id": "49be7c16",
   "metadata": {},
   "outputs": [
    {
     "name": "stdout",
     "output_type": "stream",
     "text": [
      "enter stringavd\n",
      "All the permutations of the string are: \n",
      "avd\n",
      "adv\n",
      "vad\n",
      "vda\n",
      "dva\n",
      "dav\n"
     ]
    }
   ],
   "source": [
    "def generatePermutation(string,start,end):  \n",
    "    current = 0;  \n",
    "    if(start == end-1):  \n",
    "        print(string);  \n",
    "    else:   \n",
    "        for current in range(start,end):  \n",
    "  \n",
    "       #Swapping the string by fixing a character  \n",
    "            x = list(string);  \n",
    "            temp = x[start];  \n",
    "            x[start] = x[current];  \n",
    "            x[current] = temp;  \n",
    "  \n",
    "      #Recursively calling function generatePermutation() for rest of the characters  \n",
    "  \n",
    "            generatePermutation(\"\".join(x),start+1,end);  \n",
    "            #Swapping the string by fixing a character  \n",
    "            temp = x[start];  \n",
    "            x[start] = x[current];  \n",
    "            x[current] = temp;  \n",
    "  \n",
    "str = input('enter string')  \n",
    "n = len(str);  \n",
    "print(\"All the permutations of the string are: \");  \n",
    "generatePermutation(str,0,n);  "
   ]
  },
  {
   "cell_type": "markdown",
   "id": "c70c9918",
   "metadata": {},
   "source": [
    "# Given a list of integers, write a function to check whether the list is strictly increasing or not."
   ]
  },
  {
   "cell_type": "code",
   "execution_count": 30,
   "id": "946e7c9a",
   "metadata": {},
   "outputs": [
    {
     "name": "stdout",
     "output_type": "stream",
     "text": [
      "Given list :  [11, 23, 42, 51, 67]\n",
      "Yes, List is sorted.\n",
      "Given list :  [11, 23, 21, 51, 67]\n",
      "No, List is not sorted.\n"
     ]
    }
   ],
   "source": [
    "listA = [11,23,42,51,67]\n",
    "#Given list\n",
    "print(\"Given list : \",listA)\n",
    "# Apply all and range\n",
    "if (all(i < j for i, j in zip(listA, listA[1:]))):\n",
    "   print(\"Yes, List is sorted.\")\n",
    "else:\n",
    "   print(\"No, List is not sorted.\")\n",
    "# Checking again\n",
    "listB = [11,23,21,51,67]\n",
    "print(\"Given list : \",listB)\n",
    "# Apply all and range\n",
    "if (all(i < j for i, j in zip(listB, listB[1:]))):\n",
    "   print(\"Yes, List is sorted.\")\n",
    "else:\n",
    "   print(\"No, List is not sorted.\")"
   ]
  },
  {
   "cell_type": "markdown",
   "id": "e95fdaf2",
   "metadata": {},
   "source": [
    "# function to check whether a given list is expanding or not"
   ]
  },
  {
   "cell_type": "code",
   "execution_count": 54,
   "id": "acd23944",
   "metadata": {},
   "outputs": [
    {
     "name": "stdout",
     "output_type": "stream",
     "text": [
      "The original list : [4, 5, 2, 8]\n",
      "The resultant list after extension is : [4, 4, 4, 5, 5, 5, 2, 2, 2, 8, 8, 8]\n",
      "expanding\n"
     ]
    }
   ],
   "source": [
    "try:\n",
    "    # Python3 code to demonstrate\n",
    "    # List extension by K\n",
    "    # using list comprehension\n",
    "\n",
    "    # initializing list\n",
    "    test_list = [4, 5, 2, 8]\n",
    "\n",
    "    # printing original list\n",
    "    print(\"The original list : \" + str(test_list))\n",
    "\n",
    "    # initializing K\n",
    "    K = 3\n",
    "\n",
    "    # using list comprehension\n",
    "    # to extend list\n",
    "    res = [i for i in test_list for j in range(K)]\n",
    "\n",
    "    # printing result\n",
    "    print(\"The resultant list after extension is : \" + str(res))\n",
    "except IndentationError:\n",
    "    print('exception arised')\n",
    "else:\n",
    "    print('expanding')\n",
    "    \n"
   ]
  },
  {
   "cell_type": "code",
   "execution_count": null,
   "id": "6eea6f4c",
   "metadata": {},
   "outputs": [],
   "source": []
  }
 ],
 "metadata": {
  "kernelspec": {
   "display_name": "Python 3",
   "language": "python",
   "name": "python3"
  },
  "language_info": {
   "codemirror_mode": {
    "name": "ipython",
    "version": 3
   },
   "file_extension": ".py",
   "mimetype": "text/x-python",
   "name": "python",
   "nbconvert_exporter": "python",
   "pygments_lexer": "ipython3",
   "version": "3.7.6"
  }
 },
 "nbformat": 4,
 "nbformat_minor": 5
}
